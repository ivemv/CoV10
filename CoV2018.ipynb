{
 "cells": [
  {
   "cell_type": "markdown",
   "metadata": {},
   "source": [
    "## Cities on Volcanoes 2018\n",
    "### Code of the analysis and processing of seismic data of the work entitled \"_The 2015 hurricane-induced lahars at Volcán de Colima, México: seismic characterization and numeric modeling_\"."
   ]
  },
  {
   "cell_type": "code",
   "execution_count": 1,
   "metadata": {},
   "outputs": [],
   "source": [
    "using PyPlot\n",
    "using SAC\n",
    "using DSP\n",
    "using ExcelReaders"
   ]
  },
  {
   "cell_type": "code",
   "execution_count": 2,
   "metadata": {},
   "outputs": [
    {
     "name": "stderr",
     "output_type": "stream",
     "text": [
      "\u001b[1m\u001b[36mInfo: \u001b[39m\u001b[22m\u001b[36mData are little-endian; byteswapping\n",
      "\u001b[39m"
     ]
    }
   ],
   "source": [
    "pa = SAC.read(\"Patricia250.sac\");"
   ]
  },
  {
   "cell_type": "code",
   "execution_count": 3,
   "metadata": {},
   "outputs": [],
   "source": [
    "rmean!(pa);\n",
    "rtrend!(pa);"
   ]
  },
  {
   "cell_type": "code",
   "execution_count": 4,
   "metadata": {},
   "outputs": [],
   "source": [
    "#Conversion to physical units. V(m/s)= count*1.164153nV/22.8V/(m/s)\n",
    "pa.t = pa.t*((1.1641e-9)/(22.8));"
   ]
  },
  {
   "cell_type": "code",
   "execution_count": 5,
   "metadata": {},
   "outputs": [],
   "source": [
    "#Time vector\n",
    "ti = collect(0:pa.npts-1)*pa.delta;\n",
    "n = convert(Int32,floor(pa.npts/2)+1);\n",
    "tp = (DateTime(2015,10,23,21,0,0,1):(Dates.Millisecond(1))*4:DateTime(2015,10,24,4,0,0));"
   ]
  },
  {
   "cell_type": "code",
   "execution_count": 6,
   "metadata": {},
   "outputs": [],
   "source": [
    "#Frequency vector\n",
    "ds = 1/(pa.delta*pa.npts);\n",
    "f = collect(0:pa.npts-1)*ds;"
   ]
  },
  {
   "cell_type": "code",
   "execution_count": 7,
   "metadata": {},
   "outputs": [
    {
     "data": {
      "text/plain": [
       "MA (generic function with 1 method)"
      ]
     },
     "execution_count": 7,
     "metadata": {},
     "output_type": "execute_result"
    }
   ],
   "source": [
    "#Movil average function\n",
    "function MA(x,n)\n",
    "    if size(x,1)==1\n",
    "        x = x'\n",
    "    end\n",
    "    y = zeros(length(x))\n",
    "    sx = size(x,2)\n",
    "    tape = NaN*(zeros(convert(Int,floor(n/2)),sx))\n",
    "    x1 = [tape;x;tape]\n",
    "    n1 = n-1\n",
    "    for ii=1:size(y,1)\n",
    "        sel = x1[ii+(0:n1),:]\n",
    "        y[ii]=mean(sel[!isnan.(sel)]);\n",
    "    end\n",
    "    return y\n",
    "end"
   ]
  },
  {
   "cell_type": "code",
   "execution_count": null,
   "metadata": {},
   "outputs": [],
   "source": [
    "fig = figure(figsize=(14,6))\n",
    "plot(tp,pa.t*1000,\"g\")\n",
    "xlabel(\"Time[GMT]\", fontsize=16)\n",
    "xticks(fontsize=17)\n",
    "yticks(fontsize=17)\n",
    "ylabel(\"Velocity [mm/s]\", fontsize=17)"
   ]
  },
  {
   "cell_type": "code",
   "execution_count": 8,
   "metadata": {},
   "outputs": [],
   "source": [
    "#envelope\n",
    "env = abs.(hilbert(pa.t));"
   ]
  },
  {
   "cell_type": "code",
   "execution_count": null,
   "metadata": {},
   "outputs": [],
   "source": [
    "fig = figure(figsize=(14,6))\n",
    "plot(tp, env,\"g\")\n",
    "xlabel(\"Time [GMT]\", fontsize=16)\n",
    "xticks(fontsize=17)\n",
    "ylabel(\"Amp [m^2/s^2]\", fontsize=16)\n",
    "yticks(fontsize=16)"
   ]
  },
  {
   "cell_type": "code",
   "execution_count": 9,
   "metadata": {},
   "outputs": [],
   "source": [
    "b = ones(15000)*(1/15000);\n",
    "env_1m = filt(b,1,env);"
   ]
  },
  {
   "cell_type": "code",
   "execution_count": null,
   "metadata": {},
   "outputs": [],
   "source": [
    "fig = figure(figsize=(14,6))\n",
    "plot(tp,(abs.(env_1m)).*1000,\"k\")\n",
    "xlabel(\"Time GMT\", fontsize=17)\n",
    "xticks(fontsize=17)\n",
    "ylabel(\"Amp\", fontsize=17)\n",
    "yticks(fontsize=16)"
   ]
  },
  {
   "cell_type": "code",
   "execution_count": 10,
   "metadata": {},
   "outputs": [],
   "source": [
    "#Butterworth filter\n",
    "resp = Bandpass(6,124,fs=250)\n",
    "desig = Butterworth(4)\n",
    "fil = filt(digitalfilter(resp,desig),pa.t);"
   ]
  },
  {
   "cell_type": "code",
   "execution_count": 11,
   "metadata": {},
   "outputs": [
    {
     "data": {
      "text/plain": [
       "DSP.Periodograms.Periodogram{Float64,DSP.Util.Frequencies}([1.18383e-16, 2.36766e-16, 2.36766e-16, 2.36766e-16, 2.36766e-16, 2.36766e-16, 2.36766e-16, 2.36766e-16, 2.36766e-16, 2.36766e-16  …  1.58243e-17, 1.58243e-17, 1.58243e-17, 1.58243e-17, 1.58243e-17, 1.58243e-17, 1.58243e-17, 1.58243e-17, 1.58243e-17, 7.91215e-18], [0.0, 0.00031746, 0.000634921, 0.000952381, 0.00126984, 0.0015873, 0.00190476, 0.00222222, 0.00253968, 0.00285714  …  124.997, 124.997, 124.998, 124.998, 124.998, 124.999, 124.999, 124.999, 125.0, 125.0])"
      ]
     },
     "execution_count": 11,
     "metadata": {},
     "output_type": "execute_result"
    }
   ],
   "source": [
    "specf = welch_pgram(fil,fs=250)"
   ]
  },
  {
   "cell_type": "code",
   "execution_count": null,
   "metadata": {},
   "outputs": [],
   "source": [
    "fig = figure(figsize=(14,6))\n",
    "plot(specf.freq,specf.power,\"g\")\n",
    "xlabel(\"Frequency[Hz]\", fontsize=17)\n",
    "xticks(fontsize=17)\n",
    "ylabel(\"PSD\", fontsize=17)\n",
    "yticks(fontsize=17)"
   ]
  },
  {
   "cell_type": "code",
   "execution_count": 12,
   "metadata": {},
   "outputs": [
    {
     "name": "stderr",
     "output_type": "stream",
     "text": [
      "\u001b[1m\u001b[33mWARNING: \u001b[39m\u001b[22m\u001b[33m!(B::BitArray) is deprecated, use .!(B) instead.\u001b[39m\n",
      "Stacktrace:\n",
      " [1] \u001b[1mdepwarn\u001b[22m\u001b[22m\u001b[1m(\u001b[22m\u001b[22m::String, ::Symbol\u001b[1m)\u001b[22m\u001b[22m at \u001b[1m./deprecated.jl:70\u001b[22m\u001b[22m\n",
      " [2] \u001b[1m!\u001b[22m\u001b[22m\u001b[1m(\u001b[22m\u001b[22m::BitArray{2}\u001b[1m)\u001b[22m\u001b[22m at \u001b[1m./deprecated.jl:57\u001b[22m\u001b[22m\n",
      " [3] \u001b[1mMA\u001b[22m\u001b[22m\u001b[1m(\u001b[22m\u001b[22m::Array{Float64,1}, ::Int64\u001b[1m)\u001b[22m\u001b[22m at \u001b[1m./In[7]:13\u001b[22m\u001b[22m\n",
      " [4] \u001b[1minclude_string\u001b[22m\u001b[22m\u001b[1m(\u001b[22m\u001b[22m::String, ::String\u001b[1m)\u001b[22m\u001b[22m at \u001b[1m./loading.jl:522\u001b[22m\u001b[22m\n",
      " [5] \u001b[1mexecute_request\u001b[22m\u001b[22m\u001b[1m(\u001b[22m\u001b[22m::ZMQ.Socket, ::IJulia.Msg\u001b[1m)\u001b[22m\u001b[22m at \u001b[1m/home/marv/.julia/v0.6/IJulia/src/execute_request.jl:180\u001b[22m\u001b[22m\n",
      " [6] \u001b[1m(::Compat.#inner#14{Array{Any,1},IJulia.#execute_request,Tuple{ZMQ.Socket,IJulia.Msg}})\u001b[22m\u001b[22m\u001b[1m(\u001b[22m\u001b[22m\u001b[1m)\u001b[22m\u001b[22m at \u001b[1m/home/marv/.julia/v0.6/Compat/src/Compat.jl:332\u001b[22m\u001b[22m\n",
      " [7] \u001b[1meventloop\u001b[22m\u001b[22m\u001b[1m(\u001b[22m\u001b[22m::ZMQ.Socket\u001b[1m)\u001b[22m\u001b[22m at \u001b[1m/home/marv/.julia/v0.6/IJulia/src/eventloop.jl:8\u001b[22m\u001b[22m\n",
      " [8] \u001b[1m(::IJulia.##15#18)\u001b[22m\u001b[22m\u001b[1m(\u001b[22m\u001b[22m\u001b[1m)\u001b[22m\u001b[22m at \u001b[1m./task.jl:335\u001b[22m\u001b[22m\n",
      "while loading In[12], in expression starting on line 1\n"
     ]
    }
   ],
   "source": [
    "av_spec = MA(specf.power,250);"
   ]
  },
  {
   "cell_type": "code",
   "execution_count": null,
   "metadata": {},
   "outputs": [],
   "source": [
    "fig = figure(figsize=(14,6))\n",
    "plot(specf.freq,av_spec,\"g\")\n",
    "xticks(fontsize=17)\n",
    "xlabel(\"Frequency [Hz]\", fontsize=17)\n",
    "ylabel(\"PSD\",fontsize=17)\n",
    "yticks(fontsize=17)"
   ]
  },
  {
   "cell_type": "code",
   "execution_count": null,
   "metadata": {},
   "outputs": [],
   "source": [
    "fig = figure(figsize=(6,8))\n",
    "plot(av_spec,specf.freq,\"g\")\n",
    "xticks(fontsize=17)\n",
    "axis(\"tight\")\n",
    "ax=gca()\n",
    "ax[:yaxis][:set_ticks_position](\"right\")\n",
    "xlim(minimum(av_spec)-0.01e-9,maximum(av_spec))\n",
    "ylim(minimum(specf.freq),maximum(specf.freq))\n",
    "yticks(fontsize=17)"
   ]
  },
  {
   "cell_type": "code",
   "execution_count": null,
   "metadata": {},
   "outputs": [],
   "source": [
    "fig = figure(figsize=(14,7))\n",
    "specgram(pa.t,125,250,pad_to=40,noverlap=50);\n",
    "xlabel(\"Time [s]\", fontsize=17)\n",
    "xticks(fontsize=17)\n",
    "ylabel(\"Frequency [Hz]\", fontsize=17)\n",
    "yticks(fontsize=17)\n",
    "colorbar()\n",
    "#PyPlot.savefig(\"spec.png\")"
   ]
  },
  {
   "cell_type": "code",
   "execution_count": null,
   "metadata": {},
   "outputs": [],
   "source": [
    "fig = figure(figsize=(16,8))\n",
    "subplot(2,2,2)\n",
    "\n",
    "plot(tp,pa.t*1000,\"g\")\n",
    "xlabel(\"Velocity [mm/s]\",fontsize=11)\n",
    "xticks(fontsize=11)\n",
    "ylabel(\"Time GMT\",fontsize=10)\n",
    "yticks(fontsize=10)\n",
    "\n",
    "subplot(2,2,3)\n",
    "plot(av_spec.*-1,specf.freq,\"g\")\n",
    "#axis(\"tight\")\n",
    "#ax=gca()\n",
    "#ax[:spines][\"left\"][:set_position](\"center\")\n",
    "#xlabel(\"Frequency[Hz]\")\n",
    "#ylabel(\"PSD\")\n",
    "\n",
    "subplot(2,2,4)\n",
    "specgram(pa.t,125,250,pad_to=40,noverlap=50);\n",
    "xlabel(\"Time [s]\")\n",
    "xticks(fontsize=11)\n",
    "ylabel(\"Frequency [Hz]\", fontsize=11)\n",
    "yticks(fontsize=11)\n",
    "colorbar()"
   ]
  },
  {
   "cell_type": "code",
   "execution_count": 13,
   "metadata": {},
   "outputs": [],
   "source": [
    "#time for rain\n",
    "tt = (DateTime(2015,10,23,21,0,0):Dates.Minute(10):DateTime(2015,10,24,4,0,0));"
   ]
  },
  {
   "cell_type": "code",
   "execution_count": 14,
   "metadata": {},
   "outputs": [],
   "source": [
    "lluvia = readxl(\"datos_lluvia.xlsx\",\"Datos!F128:F170\");\n",
    "acum = readxl(\"datos_lluvia.xlsx\",\"Datos!G128:G170\");"
   ]
  },
  {
   "cell_type": "code",
   "execution_count": null,
   "metadata": {},
   "outputs": [],
   "source": [
    "fig = figure(figsize=(12,5))\n",
    "plot(tt,lluvia,\"b\")\n",
    "title(\"Relation rain-signal\", fontsize=15)\n",
    "ax=gca()\n",
    "xlabel(\"Time GMT\", fontsize=14)\n",
    "xticks(fontsize=13)\n",
    "ylabel(\"mm\", fontsize=14)\n",
    "yticks(fontsize=13)\n",
    "\n",
    "ax2=ax[:twinx]()\n",
    "plot(tp,(abs.(env_1m)).*1000,\"k\")\n",
    "xticks(fontsize=13)\n",
    "ylabel(\"Amp\", fontsize=14)\n",
    "yticks(fontsize=13)\n",
    "\n",
    "new_position = [0.06;0.06;0.77;0.91]\n",
    "\n",
    "ax3=ax[:twinx]()\n",
    "ax3[:spines][\"right\"][:set_position]((\"axes\",1.12))\n",
    "plot(tt,acum,\"r\")\n",
    "ax3[:set_position](new_position)\n",
    "ylabel(\"mm\",fontsize=14)\n",
    "yticks(fontsize=13)"
   ]
  }
 ],
 "metadata": {
  "kernelspec": {
   "display_name": "Julia 0.6.2",
   "language": "julia",
   "name": "julia-0.6"
  },
  "language_info": {
   "file_extension": ".jl",
   "mimetype": "application/julia",
   "name": "julia",
   "version": "0.6.2"
  }
 },
 "nbformat": 4,
 "nbformat_minor": 2
}
